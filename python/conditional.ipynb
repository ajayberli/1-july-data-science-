{
 "cells": [
  {
   "cell_type": "markdown",
   "id": "dfa44ec2",
   "metadata": {},
   "source": [
    "#### CONDITIONAL STATEMENT\n",
    "if ,else, elif"
   ]
  },
  {
   "cell_type": "code",
   "execution_count": 2,
   "id": "b7d1150b",
   "metadata": {},
   "outputs": [],
   "source": [
    "a =10\n",
    "b =20"
   ]
  },
  {
   "cell_type": "markdown",
   "id": "fab27621",
   "metadata": {},
   "source": [
    "if, else, elif\n"
   ]
  },
  {
   "cell_type": "code",
   "execution_count": 3,
   "id": "62b7f915",
   "metadata": {},
   "outputs": [
    {
     "ename": "SyntaxError",
     "evalue": "invalid syntax (1748800040.py, line 2)",
     "output_type": "error",
     "traceback": [
      "  \u001b[36mCell\u001b[39m\u001b[36m \u001b[39m\u001b[32mIn[3]\u001b[39m\u001b[32m, line 2\u001b[39m\n\u001b[31m    \u001b[39m\u001b[31mif x<10;\u001b[39m\n           ^\n\u001b[31mSyntaxError\u001b[39m\u001b[31m:\u001b[39m invalid syntax\n"
     ]
    }
   ],
   "source": [
    "x =0\n",
    "if x<10;\n",
    "print(\"x hai h vo chota hai 10\")"
   ]
  },
  {
   "cell_type": "code",
   "execution_count": 4,
   "id": "e48158e8",
   "metadata": {},
   "outputs": [
    {
     "ename": "TypeError",
     "evalue": "'<' not supported between instances of 'str' and 'int'",
     "output_type": "error",
     "traceback": [
      "\u001b[31m---------------------------------------------------------------------------\u001b[39m",
      "\u001b[31mTypeError\u001b[39m                                 Traceback (most recent call last)",
      "\u001b[36mCell\u001b[39m\u001b[36m \u001b[39m\u001b[32mIn[4]\u001b[39m\u001b[32m, line 2\u001b[39m\n\u001b[32m      1\u001b[39m x =(\u001b[33m\"\u001b[39m\u001b[33menter the number\u001b[39m\u001b[33m\"\u001b[39m)\n\u001b[32m----> \u001b[39m\u001b[32m2\u001b[39m \u001b[38;5;28;01mif\u001b[39;00m \u001b[43mx\u001b[49m\u001b[43m<\u001b[49m\u001b[32;43m18\u001b[39;49m:\n\u001b[32m      3\u001b[39m     \u001b[38;5;28mprint\u001b[39m(\u001b[33m\"\u001b[39m\u001b[33mx can not vote\u001b[39m\u001b[33m\"\u001b[39m)\n\u001b[32m      4\u001b[39m \u001b[38;5;28;01melse\u001b[39;00m:\n",
      "\u001b[31mTypeError\u001b[39m: '<' not supported between instances of 'str' and 'int'"
     ]
    }
   ],
   "source": [
    "x =(\"enter the number\")\n",
    "if x<18:\n",
    "    print(\"x can not vote\")\n",
    "else:\n",
    "    print(\"x can vote\")\n",
    "    \n",
    "    \n"
   ]
  },
  {
   "cell_type": "code",
   "execution_count": null,
   "id": "7cfc749b",
   "metadata": {},
   "outputs": [],
   "source": [
    "find the largest number\n",
    "check even or odd\n",
    "leap year checker "
   ]
  }
 ],
 "metadata": {
  "kernelspec": {
   "display_name": "Python 3",
   "language": "python",
   "name": "python3"
  },
  "language_info": {
   "codemirror_mode": {
    "name": "ipython",
    "version": 3
   },
   "file_extension": ".py",
   "mimetype": "text/x-python",
   "name": "python",
   "nbconvert_exporter": "python",
   "pygments_lexer": "ipython3",
   "version": "3.13.5"
  }
 },
 "nbformat": 4,
 "nbformat_minor": 5
}
