{
 "cells": [
  {
   "cell_type": "code",
   "execution_count": 1,
   "id": "eaa6a222",
   "metadata": {},
   "outputs": [],
   "source": [
    "class class_name:\n",
    "    pass\n",
    "#class_name>>>>>>>> class name\n",
    "#pass>>> placeholder\n",
    "#class is a keyword\n"
   ]
  },
  {
   "cell_type": "code",
   "execution_count": 2,
   "id": "e01dce06",
   "metadata": {},
   "outputs": [
    {
     "name": "stdout",
     "output_type": "stream",
     "text": [
      "My name is gaurav and my age is 20\n"
     ]
    }
   ],
   "source": [
    "class Student:\n",
    "    # class variables\n",
    "    name = \"gaurav\"\n",
    "    age = 20\n",
    "\n",
    "\n",
    "obj_st = Student()\n",
    "\n",
    "print(f\"My name is {obj_st.name} and my age is {obj_st.age}\")"
   ]
  },
  {
   "cell_type": "code",
   "execution_count": 4,
   "id": "ad21f772",
   "metadata": {},
   "outputs": [
    {
     "ename": "SyntaxError",
     "evalue": "invalid non-printable character U+00A0 (3806482267.py, line 8)",
     "output_type": "error",
     "traceback": [
      "  \u001b[36mCell\u001b[39m\u001b[36m \u001b[39m\u001b[32mIn[4]\u001b[39m\u001b[32m, line 8\u001b[39m\n\u001b[31m    \u001b[39m\u001b[31mdt_obj =  student()\u001b[39m\n             ^\n\u001b[31mSyntaxError\u001b[39m\u001b[31m:\u001b[39m invalid non-printable character U+00A0\n"
     ]
    }
   ],
   "source": [
    "class student:\n",
    "    name = \"gaurav\" ###class vARIABLE\n",
    "    age = 21\n",
    "    def info(self):\n",
    "        print(\"this is my first method\")\n",
    "        print(\"how are you all\")\n",
    "\n",
    "dt_obj =  student()"
   ]
  },
  {
   "cell_type": "code",
   "execution_count": 5,
   "id": "dc58e281",
   "metadata": {},
   "outputs": [
    {
     "name": "stdout",
     "output_type": "stream",
     "text": [
      "This is my first method\n",
      "How are you all\n"
     ]
    }
   ],
   "source": [
    "class Student:\n",
    "    name = \"gaurav\"  # class variable\n",
    "    age = 21\n",
    "\n",
    "    def info(self):\n",
    "        print(\"This is my first method\")\n",
    "        print(\"How are you all\")\n",
    "\n",
    "# create object after class definition\n",
    "dt_obj = Student()\n",
    "\n",
    "# call the method using the object\n",
    "dt_obj.info()"
   ]
  },
  {
   "cell_type": "code",
   "execution_count": null,
   "id": "d999d956",
   "metadata": {},
   "outputs": [],
   "source": []
  }
 ],
 "metadata": {
  "kernelspec": {
   "display_name": "Python 3",
   "language": "python",
   "name": "python3"
  },
  "language_info": {
   "codemirror_mode": {
    "name": "ipython",
    "version": 3
   },
   "file_extension": ".py",
   "mimetype": "text/x-python",
   "name": "python",
   "nbconvert_exporter": "python",
   "pygments_lexer": "ipython3",
   "version": "3.13.5"
  }
 },
 "nbformat": 4,
 "nbformat_minor": 5
}
