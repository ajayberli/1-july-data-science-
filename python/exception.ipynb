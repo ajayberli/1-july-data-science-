{
 "cells": [
  {
   "cell_type": "code",
   "execution_count": 2,
   "id": "e4c78a5a",
   "metadata": {},
   "outputs": [],
   "source": [
    "try:\n",
    "    pass   ### main code\n",
    "except:\n",
    "    pass   ### error handling\n",
    "else:\n",
    "    pass   ### multiple error\n",
    "finally:\n",
    "    pass   ### koi chake ya na chale m toh chakuga \n",
    "\n"
   ]
  },
  {
   "cell_type": "code",
   "execution_count": 3,
   "id": "9356be40",
   "metadata": {},
   "outputs": [
    {
     "name": "stdout",
     "output_type": "stream",
     "text": [
      "invalid input\n"
     ]
    }
   ],
   "source": [
    "try:\n",
    "    a = int(input(\"enter a number\"))\n",
    "    b = int(input(\" enter a second number\"))\n",
    "    print(a*b)\n",
    "    except valuerror as e:\n",
    "except:\n",
    "    print(\"invalid input\",e)"
   ]
  },
  {
   "cell_type": "code",
   "execution_count": 4,
   "id": "ebca3e63",
   "metadata": {},
   "outputs": [
    {
     "name": "stdout",
     "output_type": "stream",
     "text": [
      "1.0\n"
     ]
    }
   ],
   "source": [
    "try:\n",
    "    a = int(input(\"enter a number\"))\n",
    "    b = int(input(\" enter a second number\"))\n",
    "    print(a/b)\n",
    "except ZeroDivisionError as e:\n",
    "    print(e)\n",
    "    "
   ]
  },
  {
   "cell_type": "code",
   "execution_count": 6,
   "id": "1d22a78c",
   "metadata": {},
   "outputs": [
    {
     "name": "stdout",
     "output_type": "stream",
     "text": [
      "1.0\n",
      "error\n",
      "4\n",
      "koi chale ya na chale m toh chaluga\n"
     ]
    }
   ],
   "source": [
    "try:\n",
    "    a = int(input(\"enter a number\"))\n",
    "    b = int(input(\" enter a second number\"))\n",
    "    print(a/b)\n",
    "except ZeroDivisionError as e:\n",
    "    print(e)\n",
    "else:\n",
    "    print(\"error\")\n",
    "    print(a*b)\n",
    "\n",
    "finally:\n",
    "    print(\"koi chale ya na chale m toh chaluga\")"
   ]
  },
  {
   "cell_type": "code",
   "execution_count": 5,
   "id": "09bdff8e",
   "metadata": {},
   "outputs": [
    {
     "name": "stdout",
     "output_type": "stream",
     "text": [
      "1.0\n"
     ]
    }
   ],
   "source": [
    "try:\n",
    "    a = int(input(\"enter a number\"))\n",
    "    b = int(input(\" enter a second number\"))\n",
    "    print(a/b)\n",
    "except Exception as e:\n",
    "    print(e)"
   ]
  },
  {
   "cell_type": "code",
   "execution_count": 7,
   "id": "4026730f",
   "metadata": {},
   "outputs": [
    {
     "ename": "SyntaxError",
     "evalue": "invalid syntax (3432114994.py, line 6)",
     "output_type": "error",
     "traceback": [
      "  \u001b[36mCell\u001b[39m\u001b[36m \u001b[39m\u001b[32mIn[7]\u001b[39m\u001b[32m, line 6\u001b[39m\n\u001b[31m    \u001b[39m\u001b[31mexcept: ZeroDivisionError as e:\u001b[39m\n                              ^\n\u001b[31mSyntaxError\u001b[39m\u001b[31m:\u001b[39m invalid syntax\n"
     ]
    }
   ],
   "source": [
    "try:\n",
    "    num = int(input(\"enter a number\"))\n",
    "    num2 =int(input(\"enter a second number\"))\n",
    "    result =num/num2\n",
    "\n",
    "except: ZeroDivisionError as e:\n",
    "print(e)\n",
    "except: valuerror as e:\n",
    "print(e)\n",
    "except: exception as e:\n",
    "print(e)\n",
    "\n",
    "else:\n",
    "print(\"finally_reult\",result)   \n",
    "finally:\n",
    "    print(\"thanks for our service\")\n"
   ]
  },
  {
   "cell_type": "code",
   "execution_count": null,
   "id": "3d7004c4",
   "metadata": {},
   "outputs": [],
   "source": []
  }
 ],
 "metadata": {
  "kernelspec": {
   "display_name": "Python 3",
   "language": "python",
   "name": "python3"
  },
  "language_info": {
   "codemirror_mode": {
    "name": "ipython",
    "version": 3
   },
   "file_extension": ".py",
   "mimetype": "text/x-python",
   "name": "python",
   "nbconvert_exporter": "python",
   "pygments_lexer": "ipython3",
   "version": "3.13.5"
  }
 },
 "nbformat": 4,
 "nbformat_minor": 5
}
