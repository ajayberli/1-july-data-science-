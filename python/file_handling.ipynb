{
 "cells": [
  {
   "cell_type": "code",
   "execution_count": 6,
   "id": "1420c77c",
   "metadata": {},
   "outputs": [],
   "source": [
    "file =open(\"demo.txt\",'r')\n",
    "\n",
    "file.read()\n",
    "file.close()"
   ]
  },
  {
   "cell_type": "markdown",
   "id": "5eb3085d",
   "metadata": {},
   "source": [
    "open(\"demo.txt\",'r')"
   ]
  },
  {
   "cell_type": "code",
   "execution_count": null,
   "id": "a14dec7f",
   "metadata": {},
   "outputs": [],
   "source": [
    "### *File handling* \n",
    "\n",
    "| Mode   | Description                                                  |\n",
    "| ------ | ------------------------------------------------------------ |\n",
    "| \"r\"  | Read mode (default), error if file doesn't exist             |\n",
    "| \"w\"  | Write mode, creates a file if not exist, overwrites existing |\n",
    "| \"a\"  | Append mode, adds content to end of file                     |\n",
    "| \"x\"  | Create mode, error if file already exists                    |\n",
    "                                         |\n"
   ]
  },
  {
   "cell_type": "code",
   "execution_count": 7,
   "id": "5dbc6a5b",
   "metadata": {},
   "outputs": [
    {
     "ename": "UnsupportedOperation",
     "evalue": "not writable",
     "output_type": "error",
     "traceback": [
      "\u001b[31m---------------------------------------------------------------------------\u001b[39m",
      "\u001b[31mUnsupportedOperation\u001b[39m                      Traceback (most recent call last)",
      "\u001b[36mCell\u001b[39m\u001b[36m \u001b[39m\u001b[32mIn[7]\u001b[39m\u001b[32m, line 4\u001b[39m\n\u001b[32m      1\u001b[39m file =\u001b[38;5;28mopen\u001b[39m(\u001b[33m\"\u001b[39m\u001b[33mdemo.txt\u001b[39m\u001b[33m\"\u001b[39m,\u001b[33m'\u001b[39m\u001b[33mr\u001b[39m\u001b[33m'\u001b[39m)\n\u001b[32m      3\u001b[39m file.read()\n\u001b[32m----> \u001b[39m\u001b[32m4\u001b[39m \u001b[43mfile\u001b[49m\u001b[43m.\u001b[49m\u001b[43mwrite\u001b[49m\u001b[43m(\u001b[49m\u001b[33;43m\"\u001b[39;49m\u001b[33;43mhello ajay\u001b[39;49m\u001b[33;43m\"\u001b[39;49m\u001b[43m)\u001b[49m\n\u001b[32m      5\u001b[39m file.close()\n",
      "\u001b[31mUnsupportedOperation\u001b[39m: not writable"
     ]
    }
   ],
   "source": [
    "file =open(\"demo.txt\",'r')\n",
    "\n",
    "file.read()\n",
    "file.write(\"hello ajay\")\n",
    "file.close()"
   ]
  },
  {
   "cell_type": "code",
   "execution_count": null,
   "id": "4f2fbe4a",
   "metadata": {},
   "outputs": [
    {
     "ename": "SyntaxError",
     "evalue": "invalid syntax (3709593519.py, line 1)",
     "output_type": "error",
     "traceback": [
      "  \u001b[36mCell\u001b[39m\u001b[36m \u001b[39m\u001b[32mIn[10]\u001b[39m\u001b[32m, line 1\u001b[39m\n\u001b[31m    \u001b[39m\u001b[31mfile =open(\"demo.txt\",'a')read()\u001b[39m\n                              ^\n\u001b[31mSyntaxError\u001b[39m\u001b[31m:\u001b[39m invalid syntax\n"
     ]
    }
   ],
   "source": [
    "file =open(\"demo.txt\",'a')read()\n",
    "file.write(append mode ks kaam  yeah hota h agar isko file milti h toh use file k under append karege agar isko file nhi milti to create kar Dega\n",
    ")\n",
    "file.read()\n",
    "file.close()"
   ]
  },
  {
   "cell_type": "markdown",
   "id": "3d9cc683",
   "metadata": {},
   "source": []
  },
  {
   "cell_type": "code",
   "execution_count": 12,
   "id": "a85d5488",
   "metadata": {},
   "outputs": [],
   "source": [
    "## create mode\n",
    "\n",
    "file =open(\"demo.txt\",'a')"
   ]
  },
  {
   "cell_type": "code",
   "execution_count": null,
   "id": "43ea57a0",
   "metadata": {},
   "outputs": [],
   "source": []
  }
 ],
 "metadata": {
  "kernelspec": {
   "display_name": "Python 3",
   "language": "python",
   "name": "python3"
  },
  "language_info": {
   "codemirror_mode": {
    "name": "ipython",
    "version": 3
   },
   "file_extension": ".py",
   "mimetype": "text/x-python",
   "name": "python",
   "nbconvert_exporter": "python",
   "pygments_lexer": "ipython3",
   "version": "3.13.5"
  }
 },
 "nbformat": 4,
 "nbformat_minor": 5
}
