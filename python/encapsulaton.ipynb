{
 "cells": [
  {
   "cell_type": "code",
   "execution_count": 7,
   "id": "b9849b42",
   "metadata": {},
   "outputs": [
    {
     "ename": "IndentationError",
     "evalue": "unexpected indent (2376188843.py, line 7)",
     "output_type": "error",
     "traceback": [
      "  \u001b[36mCell\u001b[39m\u001b[36m \u001b[39m\u001b[32mIn[7]\u001b[39m\u001b[32m, line 7\u001b[39m\n\u001b[31m    \u001b[39m\u001b[31mage = 20\u001b[39m\n    ^\n\u001b[31mIndentationError\u001b[39m\u001b[31m:\u001b[39m unexpected indent\n"
     ]
    }
   ],
   "source": [
    "### encapsulation\n",
    "# private\n",
    "# public\n",
    "# procate\n",
    "class student:\n",
    "   __name = \"ajay\"\n",
    "     age = 20\n",
    "_    _id = \"1234\"\n",
    "st_obj =student()"
   ]
  },
  {
   "cell_type": "code",
   "execution_count": 9,
   "id": "1ba866ce",
   "metadata": {},
   "outputs": [],
   "source": [
    "# tasks\n",
    "# acoount number\n",
    "# holder Name \n",
    "# balance\n",
    "class account:\n",
    "    accountname =\"ajay\"\n",
    "__number = '1234456'\n",
    "_balance ='10234'\n",
    "\n",
    "st_obj =(account)\n"
   ]
  },
  {
   "cell_type": "code",
   "execution_count": 12,
   "id": "4ef02bf2",
   "metadata": {},
   "outputs": [
    {
     "ename": "NameError",
     "evalue": "name 'bank' is not defined",
     "output_type": "error",
     "traceback": [
      "\u001b[31m---------------------------------------------------------------------------\u001b[39m",
      "\u001b[31mNameError\u001b[39m                                 Traceback (most recent call last)",
      "\u001b[36mCell\u001b[39m\u001b[36m \u001b[39m\u001b[32mIn[12]\u001b[39m\u001b[32m, line 10\u001b[39m\n\u001b[32m      1\u001b[39m \u001b[38;5;66;03m# bank\u001b[39;00m\n\u001b[32m      2\u001b[39m \u001b[38;5;66;03m# account number balance\u001b[39;00m\n\u001b[32m      3\u001b[39m \u001b[38;5;66;03m# name \u001b[39;00m\n\u001b[32m      4\u001b[39m \u001b[38;5;66;03m# address\u001b[39;00m\n\u001b[32m      5\u001b[39m \u001b[38;5;66;03m# phone number \u001b[39;00m\n\u001b[32m      6\u001b[39m \u001b[38;5;66;03m# method\u001b[39;00m\n\u001b[32m---> \u001b[39m\u001b[32m10\u001b[39m \u001b[38;5;28;43;01mclass\u001b[39;49;00m\u001b[38;5;250;43m \u001b[39;49m\u001b[34;43;01mbank\u001b[39;49;00m\u001b[43m:\u001b[49m\n\u001b[32m     11\u001b[39m \u001b[43m      \u001b[49m\u001b[43maccountholdername\u001b[49m\u001b[43m \u001b[49m\u001b[43m=\u001b[49m\u001b[33;43m\"\u001b[39;49m\u001b[33;43majay\u001b[39;49m\u001b[33;43m\"\u001b[39;49m\n\u001b[32m     12\u001b[39m \u001b[43m      \u001b[49m\u001b[43m_address\u001b[49m\u001b[43m \u001b[49m\u001b[43m=\u001b[49m\u001b[33;43m\"\u001b[39;49m\u001b[33;43mberlikalan\u001b[39;49m\u001b[33;43m\"\u001b[39;49m\n",
      "\u001b[36mCell\u001b[39m\u001b[36m \u001b[39m\u001b[32mIn[12]\u001b[39m\u001b[32m, line 16\u001b[39m, in \u001b[36mbank\u001b[39m\u001b[34m()\u001b[39m\n\u001b[32m     13\u001b[39m _accountholdernumber =\u001b[33m\"\u001b[39m\u001b[33m76200134334\u001b[39m\u001b[33m\"\u001b[39m\n\u001b[32m     14\u001b[39m _totlbalance =\u001b[33m'\u001b[39m\u001b[33m7574675\u001b[39m\u001b[33m'\u001b[39m\n\u001b[32m---> \u001b[39m\u001b[32m16\u001b[39m st_obj = \u001b[43mbank\u001b[49m()\n",
      "\u001b[31mNameError\u001b[39m: name 'bank' is not defined"
     ]
    }
   ],
   "source": [
    "# bank\n",
    "# account number balance\n",
    "# name \n",
    "# address\n",
    "# phone number \n",
    "# method\n",
    "\n",
    "\n",
    "\n",
    "class bank:\n",
    "      accountholdername =\"ajay\"\n",
    "      _address =\"berlikalan\"\n",
    "      _accountholdernumber =\"76200134334\"\n",
    "      _totlbalance ='7574675'\n",
    "      \n",
    "      st_obj = bank()"
   ]
  },
  {
   "cell_type": "code",
   "execution_count": 13,
   "id": "06b6b66a",
   "metadata": {},
   "outputs": [
    {
     "name": "stdout",
     "output_type": "stream",
     "text": [
      "Account Holder Name: Ajay Kumar\n",
      "Balance: 5000\n"
     ]
    }
   ],
   "source": [
    "class BankAccount:\n",
    "    def __init__(self, holder_name, balance):\n",
    "        self.holder_name = holder_name\n",
    "        self.balance = balance\n",
    "\n",
    "    def display_account(self):\n",
    "        print(\"Account Holder Name:\", self.holder_name)\n",
    "        print(\"Balance:\", self.balance)\n",
    "\n",
    "# Creating an object\n",
    "acc1 = BankAccount(\"Ajay Kumar\", 5000)\n",
    "acc1.display_account()\n",
    "\n"
   ]
  },
  {
   "cell_type": "code",
   "execution_count": 14,
   "id": "87cd7713",
   "metadata": {},
   "outputs": [
    {
     "ename": "NameError",
     "evalue": "name 'student' is not defined",
     "output_type": "error",
     "traceback": [
      "\u001b[31m---------------------------------------------------------------------------\u001b[39m",
      "\u001b[31mNameError\u001b[39m                                 Traceback (most recent call last)",
      "\u001b[36mCell\u001b[39m\u001b[36m \u001b[39m\u001b[32mIn[14]\u001b[39m\u001b[32m, line 12\u001b[39m\n\u001b[32m      1\u001b[39m \u001b[38;5;66;03m# class \u001b[39;00m\n\u001b[32m      2\u001b[39m \u001b[38;5;66;03m# methpod\u001b[39;00m\n\u001b[32m      3\u001b[39m \u001b[38;5;66;03m# inheritance\u001b[39;00m\n\u001b[32m   (...)\u001b[39m\u001b[32m     10\u001b[39m \u001b[38;5;66;03m# int method\u001b[39;00m\n\u001b[32m     11\u001b[39m \u001b[38;5;66;03m# ___int___\u001b[39;00m\n\u001b[32m---> \u001b[39m\u001b[32m12\u001b[39m \u001b[38;5;28;43;01mclass\u001b[39;49;00m\u001b[38;5;250;43m \u001b[39;49m\u001b[34;43;01mstudemt\u001b[39;49;00m\u001b[43m:\u001b[49m\n\u001b[32m     13\u001b[39m \u001b[43m    \u001b[49m\u001b[38;5;28;43;01mdef\u001b[39;49;00m\u001b[38;5;250;43m \u001b[39;49m\u001b[34;43m__int__\u001b[39;49m\u001b[43m(\u001b[49m\u001b[38;5;28;43mself\u001b[39;49m\u001b[43m)\u001b[49m\u001b[43m:\u001b[49m\n\u001b[32m     14\u001b[39m \u001b[43m           \u001b[49m\u001b[38;5;28;43;01mpass\u001b[39;49;00m\n",
      "\u001b[36mCell\u001b[39m\u001b[36m \u001b[39m\u001b[32mIn[14]\u001b[39m\u001b[32m, line 15\u001b[39m, in \u001b[36mstudemt\u001b[39m\u001b[34m()\u001b[39m\n\u001b[32m     13\u001b[39m \u001b[38;5;28;01mdef\u001b[39;00m\u001b[38;5;250m \u001b[39m\u001b[34m__int__\u001b[39m(\u001b[38;5;28mself\u001b[39m):\n\u001b[32m     14\u001b[39m        \u001b[38;5;28;01mpass\u001b[39;00m\n\u001b[32m---> \u001b[39m\u001b[32m15\u001b[39m \u001b[43mstudent\u001b[49m()\n",
      "\u001b[31mNameError\u001b[39m: name 'student' is not defined"
     ]
    }
   ],
   "source": [
    "# class \n",
    "# methpod\n",
    "# inheritance\n",
    "# tasks 1 >>>>> super function\n",
    "#task 2 >>>>>> bmi calculator through class\n",
    "\n",
    "\n",
    "\n",
    "#### constructor\n",
    "# int method\n",
    "# ___int___\n",
    "class studemt:\n",
    "    def __int__(self):\n",
    "           pass\n",
    "    student()\n"
   ]
  },
  {
   "cell_type": "code",
   "execution_count": 21,
   "id": "e0ca552c",
   "metadata": {},
   "outputs": [
    {
     "ename": "NameError",
     "evalue": "name 'obj_st' is not defined",
     "output_type": "error",
     "traceback": [
      "\u001b[31m---------------------------------------------------------------------------\u001b[39m",
      "\u001b[31mNameError\u001b[39m                                 Traceback (most recent call last)",
      "\u001b[36mCell\u001b[39m\u001b[36m \u001b[39m\u001b[32mIn[21]\u001b[39m\u001b[32m, line 1\u001b[39m\n\u001b[32m----> \u001b[39m\u001b[32m1\u001b[39m \u001b[38;5;28;43;01mclass\u001b[39;49;00m\u001b[38;5;250;43m \u001b[39;49m\u001b[34;43;01mstudent\u001b[39;49;00m\u001b[43m:\u001b[49m\n\u001b[32m      2\u001b[39m \u001b[43m    \u001b[49m\u001b[38;5;28;43;01mdef\u001b[39;49;00m\u001b[38;5;250;43m \u001b[39;49m\u001b[34;43m___int___\u001b[39;49m\u001b[43m(\u001b[49m\u001b[38;5;28;43mself\u001b[39;49m\u001b[43m,\u001b[49m\u001b[43mname\u001b[49m\u001b[43m,\u001b[49m\u001b[43m \u001b[49m\u001b[43mage\u001b[49m\u001b[43m)\u001b[49m\u001b[43m:\u001b[49m\n\u001b[32m      3\u001b[39m \u001b[43m        \u001b[49m\u001b[38;5;28;43mself\u001b[39;49m\u001b[43m.\u001b[49m\u001b[43mname\u001b[49m\u001b[43m \u001b[49m\u001b[43m=\u001b[49m\u001b[43mname\u001b[49m\n",
      "\u001b[36mCell\u001b[39m\u001b[36m \u001b[39m\u001b[32mIn[21]\u001b[39m\u001b[32m, line 7\u001b[39m, in \u001b[36mstudent\u001b[39m\u001b[34m()\u001b[39m\n\u001b[32m      4\u001b[39m     \u001b[38;5;28mself\u001b[39m.age =age  \u001b[38;5;66;03m### inheritance variable\u001b[39;00m\n\u001b[32m      6\u001b[39m     obj_st = student(name =\u001b[33m\"\u001b[39m\u001b[33majay\u001b[39m\u001b[33m\"\u001b[39m ,age =\u001b[33m\"\u001b[39m\u001b[33m21\u001b[39m\u001b[33m\"\u001b[39m) \n\u001b[32m----> \u001b[39m\u001b[32m7\u001b[39m \u001b[38;5;28mprint\u001b[39m(\u001b[43mobj_st\u001b[49m.name)\n\u001b[32m      8\u001b[39m \u001b[38;5;28mprint\u001b[39m(obj_st.age)\n",
      "\u001b[31mNameError\u001b[39m: name 'obj_st' is not defined"
     ]
    }
   ],
   "source": [
    "class student:\n",
    "    def ___int___(self,name, age):\n",
    "        self.name =name\n",
    "        self.age =age  ### inheritance variable\n",
    "\n",
    "        obj_st = student(name =\"ajay\" ,age =\"21\") \n",
    "    print(obj_st.name)\n",
    "    print(obj_st.age)          "
   ]
  },
  {
   "cell_type": "code",
   "execution_count": 22,
   "id": "43eba612",
   "metadata": {},
   "outputs": [
    {
     "ename": "SyntaxError",
     "evalue": "invalid syntax (2744156739.py, line 2)",
     "output_type": "error",
     "traceback": [
      "  \u001b[36mCell\u001b[39m\u001b[36m \u001b[39m\u001b[32mIn[22]\u001b[39m\u001b[32m, line 2\u001b[39m\n\u001b[31m    \u001b[39m\u001b[31m2     def ___int___(self,name, age):\u001b[39m\n          ^\n\u001b[31mSyntaxError\u001b[39m\u001b[31m:\u001b[39m invalid syntax\n"
     ]
    }
   ],
   "source": [
    " class student:\n",
    "      2     def ___int___(self,name, age):\n",
    "      3         self.name =name\n",
    "\n"
   ]
  },
  {
   "cell_type": "code",
   "execution_count": 24,
   "id": "e7cba5f9",
   "metadata": {},
   "outputs": [
    {
     "ename": "SyntaxError",
     "evalue": "expected ':' (3075145621.py, line 2)",
     "output_type": "error",
     "traceback": [
      "  \u001b[36mCell\u001b[39m\u001b[36m \u001b[39m\u001b[32mIn[24]\u001b[39m\u001b[32m, line 2\u001b[39m\n\u001b[31m    \u001b[39m\u001b[31mdef __int__(self,name,age)\u001b[39m\n                              ^\n\u001b[31mSyntaxError\u001b[39m\u001b[31m:\u001b[39m expected ':'\n"
     ]
    }
   ],
   "source": [
    "class student:\n",
    "    def __int__(self,name,age)\n",
    "        self.name =name\n",
    "        self.age =age\n",
    "        self.address = address\n",
    "\n",
    "        def display(self):\n",
    "            print(\"my name is {self.name} and my age{self.age} and my address{slef.address}\")\n",
    "obj_st=student(name=\"ajay\",age=\"21\",address=\"berli\")"
   ]
  },
  {
   "cell_type": "code",
   "execution_count": null,
   "id": "7b281bd7",
   "metadata": {},
   "outputs": [],
   "source": []
  },
  {
   "cell_type": "code",
   "execution_count": 26,
   "id": "c4950061",
   "metadata": {},
   "outputs": [
    {
     "name": "stdout",
     "output_type": "stream",
     "text": [
      "🏦 Account Information\n",
      "Account Holder Name: Ajay Kumar\n",
      "Bank Name: State Bank of India\n",
      "Phone Number: 9876543210\n",
      "Address: 123 Main Street, Delhi\n",
      "Balance: ₹ 15000\n"
     ]
    }
   ],
   "source": [
    "class BankAccount:\n",
    "    def __init__(self, holder_name, account_name, phone_number, address, balance):\n",
    "        self.holder_name = holder_name\n",
    "        self.account_name = account_name\n",
    "        self.phone_number = phone_number\n",
    "        self.address = address\n",
    "        self.balance = balance\n",
    "\n",
    "    def display_account_info(self):\n",
    "        print(\"🏦 Account Information\")\n",
    "        print(\"Account Holder Name:\", self.holder_name)\n",
    "        print(\"Bank Name:\", self.account_name)\n",
    "        print(\"Phone Number:\", self.phone_number)\n",
    "        print(\"Address:\", self.address)\n",
    "        print(\"Balance: ₹\", self.balance)\n",
    "\n",
    "# 🔧 Creating an account object\n",
    "acc1 = BankAccount(\n",
    "    holder_name=\"Ajay Kumar\",\n",
    "    account_name=\"State Bank of India\",\n",
    "    phone_number=\"9876543210\",\n",
    "    address=\"123 Main Street, Delhi\",\n",
    "    balance=15000\n",
    ")\n",
    "\n",
    "# 📋 Displaying account details\n",
    "acc1.display_account_info()\n"
   ]
  },
  {
   "cell_type": "code",
   "execution_count": 27,
   "id": "1c3435f4",
   "metadata": {},
   "outputs": [
    {
     "name": "stdout",
     "output_type": "stream",
     "text": [
      "🏦 Account Details:\n",
      "Account Holder Name: Ajay Kumar\n",
      "Bank Name: State Bank of India\n",
      "Phone Number: 9876543210\n",
      "Address: 123 Main Street, Delhi\n",
      "Current Balance: ₹ 10000\n",
      "----------------------------------------\n",
      "🔄 Requesting withdrawal of ₹3000...\n",
      "✅ Withdrawal Successful!\n",
      "💰 Remaining Balance: ₹ 7000\n",
      "----------------------------------------\n",
      "🏦 Account Details:\n",
      "Account Holder Name: Ajay Kumar\n",
      "Bank Name: State Bank of India\n",
      "Phone Number: 9876543210\n",
      "Address: 123 Main Street, Delhi\n",
      "Current Balance: ₹ 7000\n",
      "----------------------------------------\n"
     ]
    }
   ],
   "source": [
    "class BankAccount:\n",
    "    def __init__(self, holder_name, bank_name, phone_number, address, balance):\n",
    "        self.holder_name = holder_name\n",
    "        self.bank_name = bank_name\n",
    "        self.phone_number = phone_number\n",
    "        self.address = address\n",
    "        self.balance = balance\n",
    "\n",
    "    def show_details(self):\n",
    "        print(\"🏦 Account Details:\")\n",
    "        print(\"Account Holder Name:\", self.holder_name)\n",
    "        print(\"Bank Name:\", self.bank_name)\n",
    "        print(\"Phone Number:\", self.phone_number)\n",
    "        print(\"Address:\", self.address)\n",
    "        print(\"Current Balance: ₹\", self.balance)\n",
    "        print(\"-\" * 40)\n",
    "\n",
    "    def withdraw(self, amount):\n",
    "        print(f\"🔄 Requesting withdrawal of ₹{amount}...\")\n",
    "        if amount > self.balance:\n",
    "            print(\"❌ Insufficient Balance! Withdrawal Failed.\")\n",
    "        else:\n",
    "            self.balance -= amount\n",
    "            print(\"✅ Withdrawal Successful!\")\n",
    "            print(\"💰 Remaining Balance: ₹\", self.balance)\n",
    "        print(\"-\" * 40)\n",
    "\n",
    "# 🧑 Create an account object\n",
    "account1 = BankAccount(\n",
    "    holder_name=\"Ajay Kumar\",\n",
    "    bank_name=\"State Bank of India\",\n",
    "    phone_number=\"9876543210\",\n",
    "    address=\"123 Main Street, Delhi\",\n",
    "    balance=10000\n",
    ")\n",
    "\n",
    "# 🎯 Show account details\n",
    "account1.show_details()\n",
    "\n",
    "# 💸 Perform withdrawal\n",
    "account1.withdraw(3000)\n",
    "\n",
    "# 👁️ Show updated details\n",
    "account1.show_details()\n"
   ]
  },
  {
   "cell_type": "code",
   "execution_count": 1,
   "id": "8ce1341c",
   "metadata": {},
   "outputs": [
    {
     "name": "stdout",
     "output_type": "stream",
     "text": [
      "Ajay's BMI is 22.2 (Normal weight)\n"
     ]
    }
   ],
   "source": [
    "class BMICalculator:\n",
    "    def __init__(self, name, height_m, weight_kg):\n",
    "        self.name = name\n",
    "        self.height_m = height_m\n",
    "        self.weight_kg = weight_kg\n",
    "\n",
    "    def calculate_bmi(self):\n",
    "        bmi = self.weight_kg / (self.height_m ** 2)\n",
    "        return round(bmi, 2)\n",
    "\n",
    "    def bmi_category(self):\n",
    "        bmi = self.calculate_bmi()\n",
    "        if bmi < 18.5:\n",
    "            return \"Underweight\"\n",
    "        elif 18.5 <= bmi < 24.9:\n",
    "            return \"Normal weight\"\n",
    "        elif 25 <= bmi < 29.9:\n",
    "            return \"Overweight\"\n",
    "        else:\n",
    "            return \"Obese\"\n",
    "\n",
    "    def display(self):\n",
    "        bmi = self.calculate_bmi()\n",
    "        category = self.bmi_category()\n",
    "        print(f\"{self.name}'s BMI is {bmi} ({category})\")\n",
    "\n",
    "# Example\n",
    "user1 = BMICalculator(\"Ajay\", 1.75, 68)\n",
    "user1.display()\n"
   ]
  },
  {
   "cell_type": "code",
   "execution_count": 2,
   "id": "dc445d8e",
   "metadata": {},
   "outputs": [
    {
     "name": "stdout",
     "output_type": "stream",
     "text": [
      "Name: Ajay\n",
      "Age: 21\n",
      "Student ID: S1024\n"
     ]
    }
   ],
   "source": [
    "class Person:\n",
    "    def __init__(self, name, age):\n",
    "        self.name = name\n",
    "        self.age = age\n",
    "\n",
    "    def display(self):\n",
    "        print(f\"Name: {self.name}\")\n",
    "        print(f\"Age: {self.age}\")\n",
    "\n",
    "class Student(Person):\n",
    "    def __init__(self, name, age, student_id):\n",
    "        super().__init__(name, age)  # calling the constructor of the parent class\n",
    "        self.student_id = student_id\n",
    "\n",
    "    def display(self):\n",
    "        super().display()  # calling the display method of the parent class\n",
    "        print(f\"Student ID: {self.student_id}\")\n",
    "\n",
    "# Example\n",
    "s1 = Student(\"Ajay\", 21, \"S1024\")\n",
    "s1.display()\n"
   ]
  },
  {
   "cell_type": "code",
   "execution_count": null,
   "id": "b4e9286a",
   "metadata": {},
   "outputs": [],
   "source": []
  }
 ],
 "metadata": {
  "kernelspec": {
   "display_name": "Python 3",
   "language": "python",
   "name": "python3"
  },
  "language_info": {
   "codemirror_mode": {
    "name": "ipython",
    "version": 3
   },
   "file_extension": ".py",
   "mimetype": "text/x-python",
   "name": "python",
   "nbconvert_exporter": "python",
   "pygments_lexer": "ipython3",
   "version": "3.13.5"
  }
 },
 "nbformat": 4,
 "nbformat_minor": 5
}
